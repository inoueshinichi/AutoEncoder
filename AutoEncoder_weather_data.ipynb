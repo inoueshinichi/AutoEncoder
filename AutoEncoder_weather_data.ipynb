{
 "cells": [
  {
   "cell_type": "code",
   "execution_count": 2,
   "metadata": {},
   "outputs": [],
   "source": [
    "import torch\n",
    "from torch.autograd import Variable\n",
    "import torch.nn as nn\n",
    "import torch.nn.functional as F\n",
    "import torch.optim as optim\n",
    "from torch.utils.data import DataLoader, TensorDataset"
   ]
  },
  {
   "cell_type": "code",
   "execution_count": 10,
   "metadata": {},
   "outputs": [],
   "source": [
    "import pandas as pd\n",
    "import numpy as np\n",
    "from matplotlib import pyplot as plt\n",
    "%matplotlib inline"
   ]
  },
  {
   "cell_type": "code",
   "execution_count": 15,
   "metadata": {},
   "outputs": [],
   "source": [
    "data = pd.read_csv(\"./weather/data.csv\", skiprows=[0, 1, 2, 4], encoding=\"shift_jis\")"
   ]
  },
  {
   "cell_type": "code",
   "execution_count": 17,
   "metadata": {},
   "outputs": [
    {
     "name": "stdout",
     "output_type": "stream",
     "text": [
      "0       4.2\n",
      "1       4.6\n",
      "2       5.2\n",
      "3       3.8\n",
      "4       3.9\n",
      "       ... \n",
      "2187    3.9\n",
      "2188    3.9\n",
      "2189    5.7\n",
      "2190    5.0\n",
      "2191    3.0\n",
      "Name: 平均気温(℃), Length: 2192, dtype: float64\n"
     ]
    }
   ],
   "source": [
    "temp_data = data['平均気温(℃)']\n",
    "print(temp_data)"
   ]
  },
  {
   "cell_type": "code",
   "execution_count": 18,
   "metadata": {},
   "outputs": [
    {
     "data": {
      "text/html": [
       "<div>\n",
       "<style scoped>\n",
       "    .dataframe tbody tr th:only-of-type {\n",
       "        vertical-align: middle;\n",
       "    }\n",
       "\n",
       "    .dataframe tbody tr th {\n",
       "        vertical-align: top;\n",
       "    }\n",
       "\n",
       "    .dataframe thead th {\n",
       "        text-align: right;\n",
       "    }\n",
       "</style>\n",
       "<table border=\"1\" class=\"dataframe\">\n",
       "  <thead>\n",
       "    <tr style=\"text-align: right;\">\n",
       "      <th></th>\n",
       "      <th>年月日</th>\n",
       "      <th>平均気温(℃)</th>\n",
       "      <th>平均気温(℃).1</th>\n",
       "      <th>平均気温(℃).2</th>\n",
       "    </tr>\n",
       "  </thead>\n",
       "  <tbody>\n",
       "    <tr>\n",
       "      <th>1820</th>\n",
       "      <td>2016/12/25</td>\n",
       "      <td>5.6</td>\n",
       "      <td>8</td>\n",
       "      <td>2</td>\n",
       "    </tr>\n",
       "    <tr>\n",
       "      <th>1821</th>\n",
       "      <td>2016/12/26</td>\n",
       "      <td>5.3</td>\n",
       "      <td>8</td>\n",
       "      <td>2</td>\n",
       "    </tr>\n",
       "    <tr>\n",
       "      <th>1822</th>\n",
       "      <td>2016/12/27</td>\n",
       "      <td>8.2</td>\n",
       "      <td>8</td>\n",
       "      <td>2</td>\n",
       "    </tr>\n",
       "    <tr>\n",
       "      <th>1823</th>\n",
       "      <td>2016/12/28</td>\n",
       "      <td>5.2</td>\n",
       "      <td>8</td>\n",
       "      <td>2</td>\n",
       "    </tr>\n",
       "    <tr>\n",
       "      <th>1824</th>\n",
       "      <td>2016/12/29</td>\n",
       "      <td>3.3</td>\n",
       "      <td>8</td>\n",
       "      <td>2</td>\n",
       "    </tr>\n",
       "    <tr>\n",
       "      <th>1825</th>\n",
       "      <td>2016/12/30</td>\n",
       "      <td>5.4</td>\n",
       "      <td>8</td>\n",
       "      <td>2</td>\n",
       "    </tr>\n",
       "    <tr>\n",
       "      <th>1826</th>\n",
       "      <td>2016/12/31</td>\n",
       "      <td>5.2</td>\n",
       "      <td>8</td>\n",
       "      <td>2</td>\n",
       "    </tr>\n",
       "    <tr>\n",
       "      <th>1827</th>\n",
       "      <td>2017/1/1</td>\n",
       "      <td>6.8</td>\n",
       "      <td>8</td>\n",
       "      <td>2</td>\n",
       "    </tr>\n",
       "    <tr>\n",
       "      <th>1828</th>\n",
       "      <td>2017/1/2</td>\n",
       "      <td>6.4</td>\n",
       "      <td>8</td>\n",
       "      <td>2</td>\n",
       "    </tr>\n",
       "    <tr>\n",
       "      <th>1829</th>\n",
       "      <td>2017/1/3</td>\n",
       "      <td>7.4</td>\n",
       "      <td>8</td>\n",
       "      <td>2</td>\n",
       "    </tr>\n",
       "  </tbody>\n",
       "</table>\n",
       "</div>"
      ],
      "text/plain": [
       "             年月日  平均気温(℃)  平均気温(℃).1  平均気温(℃).2\n",
       "1820  2016/12/25      5.6          8          2\n",
       "1821  2016/12/26      5.3          8          2\n",
       "1822  2016/12/27      8.2          8          2\n",
       "1823  2016/12/28      5.2          8          2\n",
       "1824  2016/12/29      3.3          8          2\n",
       "1825  2016/12/30      5.4          8          2\n",
       "1826  2016/12/31      5.2          8          2\n",
       "1827    2017/1/1      6.8          8          2\n",
       "1828    2017/1/2      6.4          8          2\n",
       "1829    2017/1/3      7.4          8          2"
      ]
     },
     "execution_count": 18,
     "metadata": {},
     "output_type": "execute_result"
    }
   ],
   "source": [
    "data[1820:1830]"
   ]
  },
  {
   "cell_type": "code",
   "execution_count": 29,
   "metadata": {},
   "outputs": [
    {
     "name": "stdout",
     "output_type": "stream",
     "text": [
      "<class 'pandas.core.series.Series'>\n",
      "<class 'pandas.core.series.Series'>\n"
     ]
    }
   ],
   "source": [
    "train_x = temp_data[:1827]\n",
    "test_x = temp_data[1826:]\n",
    "print(type(train_x))\n",
    "print(type(test_x))"
   ]
  },
  {
   "cell_type": "code",
   "execution_count": 30,
   "metadata": {},
   "outputs": [],
   "source": [
    "train_x = np.array(train_x)\n",
    "test_x = np.array(test_x)"
   ]
  },
  {
   "cell_type": "code",
   "execution_count": 31,
   "metadata": {},
   "outputs": [
    {
     "name": "stdout",
     "output_type": "stream",
     "text": [
      "<class 'numpy.ndarray'>\n",
      "<class 'numpy.ndarray'>\n"
     ]
    }
   ],
   "source": [
    "print(type(train_x))\n",
    "print(type(test_x))"
   ]
  },
  {
   "cell_type": "code",
   "execution_count": 32,
   "metadata": {},
   "outputs": [
    {
     "data": {
      "text/plain": [
       "array([4.2, 4.6, 5.2, ..., 3.3, 5.4, 5.2])"
      ]
     },
     "execution_count": 32,
     "metadata": {},
     "output_type": "execute_result"
    }
   ],
   "source": [
    "train_x"
   ]
  },
  {
   "cell_type": "code",
   "execution_count": 33,
   "metadata": {},
   "outputs": [
    {
     "data": {
      "text/plain": [
       "1827"
      ]
     },
     "execution_count": 33,
     "metadata": {},
     "output_type": "execute_result"
    }
   ],
   "source": [
    "len(train_x)"
   ]
  },
  {
   "cell_type": "code",
   "execution_count": 34,
   "metadata": {},
   "outputs": [
    {
     "data": {
      "text/plain": [
       "array([ 5.2,  6.8,  6.4,  7.4,  7.7,  5.8,  3.8,  3. ,  3. ,  7.6,  7.6,\n",
       "        6.1,  4.7,  4.7,  1.3, -0.1,  2.1,  4.5,  4.4,  5.5,  2.3,  5.4,\n",
       "        5.3,  3.3,  1.6,  3.3,  3.6,  6.2,  7.6,  7.5, 10.3,  5.3,  4.9,\n",
       "        4.1,  6.7,  7.9,  6.5,  8. ,  5.2,  6. ,  1.9,  4. ,  3.1,  3.9,\n",
       "        5.5,  5.5,  6.1,  6.7, 12.2,  7.6,  5.6,  7.9,  5.6,  6.2, 10.9,\n",
       "        7. ,  7.1,  8.4,  6.1,  5.4,  6.2,  6.5,  8. ,  8.5,  9.7,  8.9,\n",
       "        6. ,  5. ,  6.8,  7.9,  7.6,  7.2,  8.2,  7.9,  5.4,  7.8,  9. ,\n",
       "        9.5, 11.4, 12.3,  9.2,  9.5,  9.1,  8. ,  7.5,  5.5,  5.1,  8.2,\n",
       "        8.5, 11.7,  8.7,  6.1,  8.3, 10. , 10.9, 14.4, 16.4, 17.9, 14.7,\n",
       "       13.8, 10.4,  8. , 13.5, 12.2, 15. , 18.7, 19.2, 18.4, 20.1, 17.5,\n",
       "       15.6, 15.5, 13.9, 13.7, 14.5, 16. , 16.7, 15.5, 15.9, 16.5, 18.1,\n",
       "       17.2, 16.7, 17. , 18.3, 19.9, 22.2, 20.2, 21.4, 19.2, 16.4, 21.6,\n",
       "       21.6, 17.8, 18. , 17.6, 18.8, 17.1, 17.8, 20.4, 22.6, 24.6, 24.1,\n",
       "       23. , 22.1, 20.5, 18.6, 20.2, 20.9, 21.9, 24. , 24. , 22.7, 23.3,\n",
       "       21.3, 20.7, 19.4, 19.6, 20.5, 22.5, 23.6, 25. , 21.5, 20.5, 16.8,\n",
       "       19.6, 21.4, 22.7, 22.1, 19.9, 23.5, 23.4, 22.1, 24.1, 24.9, 24.8,\n",
       "       22.8, 23.9, 23.3, 23. , 25. , 23.7, 23.3, 26.3, 29.1, 26.8, 26.6,\n",
       "       26.3, 27.2, 28.4, 28.1, 28.1, 28.4, 29.7, 29.2, 29.1, 29.1, 30.2,\n",
       "       30.2, 26.2, 26.9, 28.6, 29.5, 29.2, 27.6, 29.6, 28.6, 24.5, 24.5,\n",
       "       27.2, 26.9, 25.7, 28.2, 26.4, 22.7, 24.2, 25.7, 28.1, 29.2, 29.1,\n",
       "       29.9, 30. , 25.7, 23. , 24.2, 26.4, 24.2, 23.3, 21.7, 24.4, 26.3,\n",
       "       25.9, 25.3, 27.2, 28. , 29.2, 30.3, 30.3, 29. , 26.6, 26.4, 29.1,\n",
       "       27.2, 21.9, 22. , 20.2, 22.8, 20.8, 23.2, 21.8, 22.5, 24.5, 24.5,\n",
       "       25.7, 25.9, 23.8, 26.2, 25.7, 24. , 20.4, 18.6, 28. , 24.6, 22.8,\n",
       "       24.2, 21.1, 20. , 22.1, 23.9, 23.8, 23.5, 19.4, 19.9, 20.1, 20.7,\n",
       "       21.8, 22.4, 18.5, 16.4, 15.3, 18.1, 20.9, 21.4, 23. , 21.2, 23. ,\n",
       "       15.5, 14.8, 15. , 12.5, 13.3, 14.1, 10.9, 14.4, 16.6, 17.4, 18.6,\n",
       "       14.9, 12.8, 14. , 14. , 14. , 14.5, 15.1, 12.5, 12. , 14.2, 16.3,\n",
       "       15.9, 12.7, 12.3, 14.2, 13.3, 13.9, 11.5, 15.4, 11.8, 10.6, 11.7,\n",
       "       12.1, 11.1,  8.7,  9.1,  8.2,  5.7,  6.7,  5.8,  9.4,  8.6,  7.8,\n",
       "       10.2, 10.6, 11.5, 12.1, 10.3,  8. ,  6.6,  7.1,  7.3,  8.8,  5.7,\n",
       "        5.6,  4.5,  5.1,  5.6,  8.3,  6. ,  4.7,  4.9,  4. ,  6.6,  5.4,\n",
       "        3.5,  5.5,  4.6,  3.7,  4.1,  5.8,  5.8,  8.4,  6.7,  3.9,  3.9,\n",
       "        5.7,  5. ,  3. ])"
      ]
     },
     "execution_count": 34,
     "metadata": {},
     "output_type": "execute_result"
    }
   ],
   "source": [
    "test_x"
   ]
  },
  {
   "cell_type": "code",
   "execution_count": 35,
   "metadata": {},
   "outputs": [
    {
     "data": {
      "text/plain": [
       "366"
      ]
     },
     "execution_count": 35,
     "metadata": {},
     "output_type": "execute_result"
    }
   ],
   "source": [
    "len(test_x)"
   ]
  },
  {
   "cell_type": "code",
   "execution_count": 36,
   "metadata": {},
   "outputs": [],
   "source": [
    "# ミニバッチ用のデータを作る"
   ]
  },
  {
   "cell_type": "code",
   "execution_count": 37,
   "metadata": {},
   "outputs": [],
   "source": [
    "window_size = 180\n",
    "temp = []\n",
    "train_X = []\n",
    "\n",
    "for i in range(0, len(train_x) - window_size):\n",
    "    temp.append(train_x[i:i+window_size])\n",
    "    \n",
    "train_X = np.array(temp)"
   ]
  },
  {
   "cell_type": "code",
   "execution_count": 38,
   "metadata": {},
   "outputs": [
    {
     "data": {
      "text/html": [
       "<div>\n",
       "<style scoped>\n",
       "    .dataframe tbody tr th:only-of-type {\n",
       "        vertical-align: middle;\n",
       "    }\n",
       "\n",
       "    .dataframe tbody tr th {\n",
       "        vertical-align: top;\n",
       "    }\n",
       "\n",
       "    .dataframe thead th {\n",
       "        text-align: right;\n",
       "    }\n",
       "</style>\n",
       "<table border=\"1\" class=\"dataframe\">\n",
       "  <thead>\n",
       "    <tr style=\"text-align: right;\">\n",
       "      <th></th>\n",
       "      <th>0</th>\n",
       "      <th>1</th>\n",
       "      <th>2</th>\n",
       "      <th>3</th>\n",
       "      <th>4</th>\n",
       "      <th>5</th>\n",
       "      <th>6</th>\n",
       "      <th>7</th>\n",
       "      <th>8</th>\n",
       "      <th>9</th>\n",
       "      <th>...</th>\n",
       "      <th>170</th>\n",
       "      <th>171</th>\n",
       "      <th>172</th>\n",
       "      <th>173</th>\n",
       "      <th>174</th>\n",
       "      <th>175</th>\n",
       "      <th>176</th>\n",
       "      <th>177</th>\n",
       "      <th>178</th>\n",
       "      <th>179</th>\n",
       "    </tr>\n",
       "  </thead>\n",
       "  <tbody>\n",
       "    <tr>\n",
       "      <th>0</th>\n",
       "      <td>4.2</td>\n",
       "      <td>4.6</td>\n",
       "      <td>5.2</td>\n",
       "      <td>3.8</td>\n",
       "      <td>3.9</td>\n",
       "      <td>4.2</td>\n",
       "      <td>4.5</td>\n",
       "      <td>4.5</td>\n",
       "      <td>4.1</td>\n",
       "      <td>4.9</td>\n",
       "      <td>...</td>\n",
       "      <td>23.5</td>\n",
       "      <td>26.7</td>\n",
       "      <td>23.5</td>\n",
       "      <td>20.7</td>\n",
       "      <td>22.5</td>\n",
       "      <td>22.8</td>\n",
       "      <td>18.3</td>\n",
       "      <td>19.6</td>\n",
       "      <td>20.8</td>\n",
       "      <td>22.3</td>\n",
       "    </tr>\n",
       "    <tr>\n",
       "      <th>1</th>\n",
       "      <td>4.6</td>\n",
       "      <td>5.2</td>\n",
       "      <td>3.8</td>\n",
       "      <td>3.9</td>\n",
       "      <td>4.2</td>\n",
       "      <td>4.5</td>\n",
       "      <td>4.5</td>\n",
       "      <td>4.1</td>\n",
       "      <td>4.9</td>\n",
       "      <td>4.6</td>\n",
       "      <td>...</td>\n",
       "      <td>26.7</td>\n",
       "      <td>23.5</td>\n",
       "      <td>20.7</td>\n",
       "      <td>22.5</td>\n",
       "      <td>22.8</td>\n",
       "      <td>18.3</td>\n",
       "      <td>19.6</td>\n",
       "      <td>20.8</td>\n",
       "      <td>22.3</td>\n",
       "      <td>23.4</td>\n",
       "    </tr>\n",
       "    <tr>\n",
       "      <th>2</th>\n",
       "      <td>5.2</td>\n",
       "      <td>3.8</td>\n",
       "      <td>3.9</td>\n",
       "      <td>4.2</td>\n",
       "      <td>4.5</td>\n",
       "      <td>4.5</td>\n",
       "      <td>4.1</td>\n",
       "      <td>4.9</td>\n",
       "      <td>4.6</td>\n",
       "      <td>2.4</td>\n",
       "      <td>...</td>\n",
       "      <td>23.5</td>\n",
       "      <td>20.7</td>\n",
       "      <td>22.5</td>\n",
       "      <td>22.8</td>\n",
       "      <td>18.3</td>\n",
       "      <td>19.6</td>\n",
       "      <td>20.8</td>\n",
       "      <td>22.3</td>\n",
       "      <td>23.4</td>\n",
       "      <td>23.4</td>\n",
       "    </tr>\n",
       "    <tr>\n",
       "      <th>3</th>\n",
       "      <td>3.8</td>\n",
       "      <td>3.9</td>\n",
       "      <td>4.2</td>\n",
       "      <td>4.5</td>\n",
       "      <td>4.5</td>\n",
       "      <td>4.1</td>\n",
       "      <td>4.9</td>\n",
       "      <td>4.6</td>\n",
       "      <td>2.4</td>\n",
       "      <td>4.0</td>\n",
       "      <td>...</td>\n",
       "      <td>20.7</td>\n",
       "      <td>22.5</td>\n",
       "      <td>22.8</td>\n",
       "      <td>18.3</td>\n",
       "      <td>19.6</td>\n",
       "      <td>20.8</td>\n",
       "      <td>22.3</td>\n",
       "      <td>23.4</td>\n",
       "      <td>23.4</td>\n",
       "      <td>21.5</td>\n",
       "    </tr>\n",
       "    <tr>\n",
       "      <th>4</th>\n",
       "      <td>3.9</td>\n",
       "      <td>4.2</td>\n",
       "      <td>4.5</td>\n",
       "      <td>4.5</td>\n",
       "      <td>4.1</td>\n",
       "      <td>4.9</td>\n",
       "      <td>4.6</td>\n",
       "      <td>2.4</td>\n",
       "      <td>4.0</td>\n",
       "      <td>3.8</td>\n",
       "      <td>...</td>\n",
       "      <td>22.5</td>\n",
       "      <td>22.8</td>\n",
       "      <td>18.3</td>\n",
       "      <td>19.6</td>\n",
       "      <td>20.8</td>\n",
       "      <td>22.3</td>\n",
       "      <td>23.4</td>\n",
       "      <td>23.4</td>\n",
       "      <td>21.5</td>\n",
       "      <td>22.8</td>\n",
       "    </tr>\n",
       "    <tr>\n",
       "      <th>...</th>\n",
       "      <td>...</td>\n",
       "      <td>...</td>\n",
       "      <td>...</td>\n",
       "      <td>...</td>\n",
       "      <td>...</td>\n",
       "      <td>...</td>\n",
       "      <td>...</td>\n",
       "      <td>...</td>\n",
       "      <td>...</td>\n",
       "      <td>...</td>\n",
       "      <td>...</td>\n",
       "      <td>...</td>\n",
       "      <td>...</td>\n",
       "      <td>...</td>\n",
       "      <td>...</td>\n",
       "      <td>...</td>\n",
       "      <td>...</td>\n",
       "      <td>...</td>\n",
       "      <td>...</td>\n",
       "      <td>...</td>\n",
       "      <td>...</td>\n",
       "    </tr>\n",
       "    <tr>\n",
       "      <th>1642</th>\n",
       "      <td>23.5</td>\n",
       "      <td>25.8</td>\n",
       "      <td>26.9</td>\n",
       "      <td>30.2</td>\n",
       "      <td>28.2</td>\n",
       "      <td>21.6</td>\n",
       "      <td>23.6</td>\n",
       "      <td>27.7</td>\n",
       "      <td>25.5</td>\n",
       "      <td>22.5</td>\n",
       "      <td>...</td>\n",
       "      <td>5.4</td>\n",
       "      <td>7.0</td>\n",
       "      <td>9.6</td>\n",
       "      <td>9.0</td>\n",
       "      <td>9.2</td>\n",
       "      <td>12.7</td>\n",
       "      <td>13.0</td>\n",
       "      <td>7.8</td>\n",
       "      <td>5.6</td>\n",
       "      <td>5.3</td>\n",
       "    </tr>\n",
       "    <tr>\n",
       "      <th>1643</th>\n",
       "      <td>25.8</td>\n",
       "      <td>26.9</td>\n",
       "      <td>30.2</td>\n",
       "      <td>28.2</td>\n",
       "      <td>21.6</td>\n",
       "      <td>23.6</td>\n",
       "      <td>27.7</td>\n",
       "      <td>25.5</td>\n",
       "      <td>22.5</td>\n",
       "      <td>26.2</td>\n",
       "      <td>...</td>\n",
       "      <td>7.0</td>\n",
       "      <td>9.6</td>\n",
       "      <td>9.0</td>\n",
       "      <td>9.2</td>\n",
       "      <td>12.7</td>\n",
       "      <td>13.0</td>\n",
       "      <td>7.8</td>\n",
       "      <td>5.6</td>\n",
       "      <td>5.3</td>\n",
       "      <td>8.2</td>\n",
       "    </tr>\n",
       "    <tr>\n",
       "      <th>1644</th>\n",
       "      <td>26.9</td>\n",
       "      <td>30.2</td>\n",
       "      <td>28.2</td>\n",
       "      <td>21.6</td>\n",
       "      <td>23.6</td>\n",
       "      <td>27.7</td>\n",
       "      <td>25.5</td>\n",
       "      <td>22.5</td>\n",
       "      <td>26.2</td>\n",
       "      <td>28.1</td>\n",
       "      <td>...</td>\n",
       "      <td>9.6</td>\n",
       "      <td>9.0</td>\n",
       "      <td>9.2</td>\n",
       "      <td>12.7</td>\n",
       "      <td>13.0</td>\n",
       "      <td>7.8</td>\n",
       "      <td>5.6</td>\n",
       "      <td>5.3</td>\n",
       "      <td>8.2</td>\n",
       "      <td>5.2</td>\n",
       "    </tr>\n",
       "    <tr>\n",
       "      <th>1645</th>\n",
       "      <td>30.2</td>\n",
       "      <td>28.2</td>\n",
       "      <td>21.6</td>\n",
       "      <td>23.6</td>\n",
       "      <td>27.7</td>\n",
       "      <td>25.5</td>\n",
       "      <td>22.5</td>\n",
       "      <td>26.2</td>\n",
       "      <td>28.1</td>\n",
       "      <td>27.6</td>\n",
       "      <td>...</td>\n",
       "      <td>9.0</td>\n",
       "      <td>9.2</td>\n",
       "      <td>12.7</td>\n",
       "      <td>13.0</td>\n",
       "      <td>7.8</td>\n",
       "      <td>5.6</td>\n",
       "      <td>5.3</td>\n",
       "      <td>8.2</td>\n",
       "      <td>5.2</td>\n",
       "      <td>3.3</td>\n",
       "    </tr>\n",
       "    <tr>\n",
       "      <th>1646</th>\n",
       "      <td>28.2</td>\n",
       "      <td>21.6</td>\n",
       "      <td>23.6</td>\n",
       "      <td>27.7</td>\n",
       "      <td>25.5</td>\n",
       "      <td>22.5</td>\n",
       "      <td>26.2</td>\n",
       "      <td>28.1</td>\n",
       "      <td>27.6</td>\n",
       "      <td>25.5</td>\n",
       "      <td>...</td>\n",
       "      <td>9.2</td>\n",
       "      <td>12.7</td>\n",
       "      <td>13.0</td>\n",
       "      <td>7.8</td>\n",
       "      <td>5.6</td>\n",
       "      <td>5.3</td>\n",
       "      <td>8.2</td>\n",
       "      <td>5.2</td>\n",
       "      <td>3.3</td>\n",
       "      <td>5.4</td>\n",
       "    </tr>\n",
       "  </tbody>\n",
       "</table>\n",
       "<p>1647 rows × 180 columns</p>\n",
       "</div>"
      ],
      "text/plain": [
       "       0     1     2     3     4     5     6     7     8     9    ...   170  \\\n",
       "0      4.2   4.6   5.2   3.8   3.9   4.2   4.5   4.5   4.1   4.9  ...  23.5   \n",
       "1      4.6   5.2   3.8   3.9   4.2   4.5   4.5   4.1   4.9   4.6  ...  26.7   \n",
       "2      5.2   3.8   3.9   4.2   4.5   4.5   4.1   4.9   4.6   2.4  ...  23.5   \n",
       "3      3.8   3.9   4.2   4.5   4.5   4.1   4.9   4.6   2.4   4.0  ...  20.7   \n",
       "4      3.9   4.2   4.5   4.5   4.1   4.9   4.6   2.4   4.0   3.8  ...  22.5   \n",
       "...    ...   ...   ...   ...   ...   ...   ...   ...   ...   ...  ...   ...   \n",
       "1642  23.5  25.8  26.9  30.2  28.2  21.6  23.6  27.7  25.5  22.5  ...   5.4   \n",
       "1643  25.8  26.9  30.2  28.2  21.6  23.6  27.7  25.5  22.5  26.2  ...   7.0   \n",
       "1644  26.9  30.2  28.2  21.6  23.6  27.7  25.5  22.5  26.2  28.1  ...   9.6   \n",
       "1645  30.2  28.2  21.6  23.6  27.7  25.5  22.5  26.2  28.1  27.6  ...   9.0   \n",
       "1646  28.2  21.6  23.6  27.7  25.5  22.5  26.2  28.1  27.6  25.5  ...   9.2   \n",
       "\n",
       "       171   172   173   174   175   176   177   178   179  \n",
       "0     26.7  23.5  20.7  22.5  22.8  18.3  19.6  20.8  22.3  \n",
       "1     23.5  20.7  22.5  22.8  18.3  19.6  20.8  22.3  23.4  \n",
       "2     20.7  22.5  22.8  18.3  19.6  20.8  22.3  23.4  23.4  \n",
       "3     22.5  22.8  18.3  19.6  20.8  22.3  23.4  23.4  21.5  \n",
       "4     22.8  18.3  19.6  20.8  22.3  23.4  23.4  21.5  22.8  \n",
       "...    ...   ...   ...   ...   ...   ...   ...   ...   ...  \n",
       "1642   7.0   9.6   9.0   9.2  12.7  13.0   7.8   5.6   5.3  \n",
       "1643   9.6   9.0   9.2  12.7  13.0   7.8   5.6   5.3   8.2  \n",
       "1644   9.0   9.2  12.7  13.0   7.8   5.6   5.3   8.2   5.2  \n",
       "1645   9.2  12.7  13.0   7.8   5.6   5.3   8.2   5.2   3.3  \n",
       "1646  12.7  13.0   7.8   5.6   5.3   8.2   5.2   3.3   5.4  \n",
       "\n",
       "[1647 rows x 180 columns]"
      ]
     },
     "execution_count": 38,
     "metadata": {},
     "output_type": "execute_result"
    }
   ],
   "source": [
    "pd.DataFrame(train_X)"
   ]
  },
  {
   "cell_type": "code",
   "execution_count": 39,
   "metadata": {},
   "outputs": [],
   "source": [
    "# モデルの定義"
   ]
  },
  {
   "cell_type": "code",
   "execution_count": 52,
   "metadata": {},
   "outputs": [],
   "source": [
    "class Net(nn.Module):\n",
    "    def __init__(self):\n",
    "        super(Net, self).__init__()\n",
    "        self.fc1 = nn.Linear(180, 128)\n",
    "        self.fc2 = nn.Linear(128, 64)\n",
    "        self.fc3 = nn.Linear(64, 128)\n",
    "        self.fc4 = nn.Linear(128, 180)\n",
    "        \n",
    "    def forward(self, x):\n",
    "        x = F.relu(self.fc1(x))\n",
    "        x = self.fc2(x)\n",
    "        x = F.relu(self.fc3(x))\n",
    "        x = self.fc4(x)\n",
    "        return x\n",
    "    \n",
    "model = Net()"
   ]
  },
  {
   "cell_type": "code",
   "execution_count": 53,
   "metadata": {},
   "outputs": [
    {
     "name": "stdout",
     "output_type": "stream",
     "text": [
      "100 nan\n",
      "200 nan\n",
      "300 nan\n",
      "400 nan\n",
      "500 nan\n",
      "600 nan\n",
      "700 nan\n",
      "800 nan\n",
      "900 nan\n",
      "1000 nan\n"
     ]
    }
   ],
   "source": [
    "criterion = nn.MSELoss()\n",
    "optimizer = optim.Adam(model.parameters(), lr=0.015)\n",
    "\n",
    "for epoch in range(1000):\n",
    "    total_loss = 0\n",
    "    input_x = []\n",
    "    \n",
    "    # ミニバッチの作成\n",
    "    for i in range(100):\n",
    "        index = np.random.randint(0, 1646)\n",
    "        input_x.append(train_X[index])\n",
    "        \n",
    "    input_x = np.array(input_x, dtype='float32') # 180次元データのミニバッチ100個\n",
    "    input_x = Variable(torch.from_numpy(input_x))\n",
    "    #print(type(input_x))\n",
    "    #print(input_x.size())\n",
    "    \n",
    "    optimizer.zero_grad()\n",
    "    output = model(input_x)\n",
    "    \n",
    "    loss = criterion(output, input_x)\n",
    "    loss.backward()\n",
    "    optimizer.step()\n",
    "    \n",
    "    total_loss += loss.item()\n",
    "    \n",
    "    if (epoch + 1) % 100 == 0:\n",
    "        print(epoch+1, total_loss)"
   ]
  },
  {
   "cell_type": "code",
   "execution_count": null,
   "metadata": {},
   "outputs": [],
   "source": [
    "# どうがんばっても誤差が発散する。"
   ]
  },
  {
   "cell_type": "code",
   "execution_count": 57,
   "metadata": {},
   "outputs": [
    {
     "data": {
      "text/plain": [
       "[<matplotlib.lines.Line2D at 0x12900feb8>]"
      ]
     },
     "execution_count": 57,
     "metadata": {},
     "output_type": "execute_result"
    },
    {
     "data": {
      "image/png": "[encoded data removed]",
      "text/plain": [
       "<Figure size 432x288 with 1 Axes>"
      ]
     },
     "metadata": {
      "needs_background": "light"
     },
     "output_type": "display_data"
    }
   ],
   "source": [
    "plt.plot(input_x.data[0].numpy(), label='input')\n",
    "#plt.plot(output.data[0].numpy(), label='output')"
   ]
  },
  {
   "cell_type": "markdown",
   "metadata": {},
   "source": [
    "### 異常値の検出"
   ]
  },
  {
   "cell_type": "code",
   "execution_count": 60,
   "metadata": {},
   "outputs": [],
   "source": [
    "input_x = []\n",
    "test_X = []\n",
    "\n",
    "input_x.append(test_x[0:180])\n",
    "input_x.append(test_x[180:360])\n",
    "test_X = np.array(input_x, dtype='float32')"
   ]
  },
  {
   "cell_type": "code",
   "execution_count": 62,
   "metadata": {},
   "outputs": [
    {
     "data": {
      "text/html": [
       "<div>\n",
       "<style scoped>\n",
       "    .dataframe tbody tr th:only-of-type {\n",
       "        vertical-align: middle;\n",
       "    }\n",
       "\n",
       "    .dataframe tbody tr th {\n",
       "        vertical-align: top;\n",
       "    }\n",
       "\n",
       "    .dataframe thead th {\n",
       "        text-align: right;\n",
       "    }\n",
       "</style>\n",
       "<table border=\"1\" class=\"dataframe\">\n",
       "  <thead>\n",
       "    <tr style=\"text-align: right;\">\n",
       "      <th></th>\n",
       "      <th>0</th>\n",
       "      <th>1</th>\n",
       "      <th>2</th>\n",
       "      <th>3</th>\n",
       "      <th>4</th>\n",
       "      <th>5</th>\n",
       "      <th>6</th>\n",
       "      <th>7</th>\n",
       "      <th>8</th>\n",
       "      <th>9</th>\n",
       "      <th>...</th>\n",
       "      <th>170</th>\n",
       "      <th>171</th>\n",
       "      <th>172</th>\n",
       "      <th>173</th>\n",
       "      <th>174</th>\n",
       "      <th>175</th>\n",
       "      <th>176</th>\n",
       "      <th>177</th>\n",
       "      <th>178</th>\n",
       "      <th>179</th>\n",
       "    </tr>\n",
       "  </thead>\n",
       "  <tbody>\n",
       "    <tr>\n",
       "      <th>0</th>\n",
       "      <td>5.2</td>\n",
       "      <td>6.800000</td>\n",
       "      <td>6.400000</td>\n",
       "      <td>7.400000</td>\n",
       "      <td>7.7</td>\n",
       "      <td>5.800000</td>\n",
       "      <td>3.8</td>\n",
       "      <td>3.000000</td>\n",
       "      <td>3.000000</td>\n",
       "      <td>7.6</td>\n",
       "      <td>...</td>\n",
       "      <td>23.5</td>\n",
       "      <td>23.4</td>\n",
       "      <td>22.1</td>\n",
       "      <td>24.1</td>\n",
       "      <td>24.9</td>\n",
       "      <td>24.799999</td>\n",
       "      <td>22.799999</td>\n",
       "      <td>23.9</td>\n",
       "      <td>23.299999</td>\n",
       "      <td>23.0</td>\n",
       "    </tr>\n",
       "    <tr>\n",
       "      <th>1</th>\n",
       "      <td>25.0</td>\n",
       "      <td>23.700001</td>\n",
       "      <td>23.299999</td>\n",
       "      <td>26.299999</td>\n",
       "      <td>29.1</td>\n",
       "      <td>26.799999</td>\n",
       "      <td>26.6</td>\n",
       "      <td>26.299999</td>\n",
       "      <td>27.200001</td>\n",
       "      <td>28.4</td>\n",
       "      <td>...</td>\n",
       "      <td>6.6</td>\n",
       "      <td>5.4</td>\n",
       "      <td>3.5</td>\n",
       "      <td>5.5</td>\n",
       "      <td>4.6</td>\n",
       "      <td>3.700000</td>\n",
       "      <td>4.100000</td>\n",
       "      <td>5.8</td>\n",
       "      <td>5.800000</td>\n",
       "      <td>8.4</td>\n",
       "    </tr>\n",
       "  </tbody>\n",
       "</table>\n",
       "<p>2 rows × 180 columns</p>\n",
       "</div>"
      ],
      "text/plain": [
       "    0          1          2          3     4          5     6          7    \\\n",
       "0   5.2   6.800000   6.400000   7.400000   7.7   5.800000   3.8   3.000000   \n",
       "1  25.0  23.700001  23.299999  26.299999  29.1  26.799999  26.6  26.299999   \n",
       "\n",
       "         8     9    ...   170   171   172   173   174        175        176  \\\n",
       "0   3.000000   7.6  ...  23.5  23.4  22.1  24.1  24.9  24.799999  22.799999   \n",
       "1  27.200001  28.4  ...   6.6   5.4   3.5   5.5   4.6   3.700000   4.100000   \n",
       "\n",
       "    177        178   179  \n",
       "0  23.9  23.299999  23.0  \n",
       "1   5.8   5.800000   8.4  \n",
       "\n",
       "[2 rows x 180 columns]"
      ]
     },
     "execution_count": 62,
     "metadata": {},
     "output_type": "execute_result"
    }
   ],
   "source": [
    "pd.DataFrame(test_X)"
   ]
  },
  {
   "cell_type": "code",
   "execution_count": 64,
   "metadata": {},
   "outputs": [],
   "source": [
    "input_test = Variable(torch.from_numpy(test_X))\n",
    "output = model(input_test)"
   ]
  },
  {
   "cell_type": "code",
   "execution_count": 65,
   "metadata": {},
   "outputs": [
    {
     "data": {
      "text/plain": [
       "tensor([[nan, nan, nan, nan, nan, nan, nan, nan, nan, nan, nan, nan, nan, nan, nan, nan, nan, nan, nan, nan, nan, nan, nan, nan,\n",
       "         nan, nan, nan, nan, nan, nan, nan, nan, nan, nan, nan, nan, nan, nan, nan, nan, nan, nan, nan, nan, nan, nan, nan, nan,\n",
       "         nan, nan, nan, nan, nan, nan, nan, nan, nan, nan, nan, nan, nan, nan, nan, nan, nan, nan, nan, nan, nan, nan, nan, nan,\n",
       "         nan, nan, nan, nan, nan, nan, nan, nan, nan, nan, nan, nan, nan, nan, nan, nan, nan, nan, nan, nan, nan, nan, nan, nan,\n",
       "         nan, nan, nan, nan, nan, nan, nan, nan, nan, nan, nan, nan, nan, nan, nan, nan, nan, nan, nan, nan, nan, nan, nan, nan,\n",
       "         nan, nan, nan, nan, nan, nan, nan, nan, nan, nan, nan, nan, nan, nan, nan, nan, nan, nan, nan, nan, nan, nan, nan, nan,\n",
       "         nan, nan, nan, nan, nan, nan, nan, nan, nan, nan, nan, nan, nan, nan, nan, nan, nan, nan, nan, nan, nan, nan, nan, nan,\n",
       "         nan, nan, nan, nan, nan, nan, nan, nan, nan, nan, nan, nan],\n",
       "        [nan, nan, nan, nan, nan, nan, nan, nan, nan, nan, nan, nan, nan, nan, nan, nan, nan, nan, nan, nan, nan, nan, nan, nan,\n",
       "         nan, nan, nan, nan, nan, nan, nan, nan, nan, nan, nan, nan, nan, nan, nan, nan, nan, nan, nan, nan, nan, nan, nan, nan,\n",
       "         nan, nan, nan, nan, nan, nan, nan, nan, nan, nan, nan, nan, nan, nan, nan, nan, nan, nan, nan, nan, nan, nan, nan, nan,\n",
       "         nan, nan, nan, nan, nan, nan, nan, nan, nan, nan, nan, nan, nan, nan, nan, nan, nan, nan, nan, nan, nan, nan, nan, nan,\n",
       "         nan, nan, nan, nan, nan, nan, nan, nan, nan, nan, nan, nan, nan, nan, nan, nan, nan, nan, nan, nan, nan, nan, nan, nan,\n",
       "         nan, nan, nan, nan, nan, nan, nan, nan, nan, nan, nan, nan, nan, nan, nan, nan, nan, nan, nan, nan, nan, nan, nan, nan,\n",
       "         nan, nan, nan, nan, nan, nan, nan, nan, nan, nan, nan, nan, nan, nan, nan, nan, nan, nan, nan, nan, nan, nan, nan, nan,\n",
       "         nan, nan, nan, nan, nan, nan, nan, nan, nan, nan, nan, nan]],\n",
       "       grad_fn=<AddmmBackward>)"
      ]
     },
     "execution_count": 65,
     "metadata": {},
     "output_type": "execute_result"
    }
   ],
   "source": [
    "output"
   ]
  },
  {
   "cell_type": "code",
   "execution_count": 67,
   "metadata": {},
   "outputs": [
    {
     "data": {
      "text/plain": [
       "<matplotlib.legend.Legend at 0x129031470>"
      ]
     },
     "execution_count": 67,
     "metadata": {},
     "output_type": "execute_result"
    },
    {
     "data": {
      "image/png": "[encoded data removed]",
      "text/plain": [
       "<Figure size 432x288 with 1 Axes>"
      ]
     },
     "metadata": {
      "needs_background": "light"
     },
     "output_type": "display_data"
    }
   ],
   "source": [
    "plt.plot(test_X.flatten(), label='original')\n",
    "plt.plot(output.data.numpy().flatten(), label=\"perdice\")\n",
    "plt.legend(loc='upper left')"
   ]
  },
  {
   "cell_type": "code",
   "execution_count": 70,
   "metadata": {},
   "outputs": [],
   "source": [
    "test = test_x.flatten()\n",
    "predict = output.data.numpy().flatten()\n",
    "\n",
    "total_score = []\n",
    "for i in range(0, 360):\n",
    "    diff = test[i] - predict[i]\n",
    "    score = pow(diff, 2)\n",
    "    total_score.append(score)\n",
    "    \n",
    "total_score = np.array(total_score)\n",
    "max_score = np.max(total_score)\n",
    "\n",
    "total_score = total_score / max_score"
   ]
  },
  {
   "cell_type": "code",
   "execution_count": 71,
   "metadata": {},
   "outputs": [
    {
     "name": "stdout",
     "output_type": "stream",
     "text": [
      "[nan nan nan nan nan nan nan nan nan nan nan nan nan nan nan nan nan nan\n",
      " nan nan nan nan nan nan nan nan nan nan nan nan nan nan nan nan nan nan\n",
      " nan nan nan nan nan nan nan nan nan nan nan nan nan nan nan nan nan nan\n",
      " nan nan nan nan nan nan nan nan nan nan nan nan nan nan nan nan nan nan\n",
      " nan nan nan nan nan nan nan nan nan nan nan nan nan nan nan nan nan nan\n",
      " nan nan nan nan nan nan nan nan nan nan nan nan nan nan nan nan nan nan\n",
      " nan nan nan nan nan nan nan nan nan nan nan nan nan nan nan nan nan nan\n",
      " nan nan nan nan nan nan nan nan nan nan nan nan nan nan nan nan nan nan\n",
      " nan nan nan nan nan nan nan nan nan nan nan nan nan nan nan nan nan nan\n",
      " nan nan nan nan nan nan nan nan nan nan nan nan nan nan nan nan nan nan\n",
      " nan nan nan nan nan nan nan nan nan nan nan nan nan nan nan nan nan nan\n",
      " nan nan nan nan nan nan nan nan nan nan nan nan nan nan nan nan nan nan\n",
      " nan nan nan nan nan nan nan nan nan nan nan nan nan nan nan nan nan nan\n",
      " nan nan nan nan nan nan nan nan nan nan nan nan nan nan nan nan nan nan\n",
      " nan nan nan nan nan nan nan nan nan nan nan nan nan nan nan nan nan nan\n",
      " nan nan nan nan nan nan nan nan nan nan nan nan nan nan nan nan nan nan\n",
      " nan nan nan nan nan nan nan nan nan nan nan nan nan nan nan nan nan nan\n",
      " nan nan nan nan nan nan nan nan nan nan nan nan nan nan nan nan nan nan\n",
      " nan nan nan nan nan nan nan nan nan nan nan nan nan nan nan nan nan nan\n",
      " nan nan nan nan nan nan nan nan nan nan nan nan nan nan nan nan nan nan]\n"
     ]
    }
   ],
   "source": [
    "print(total_score)"
   ]
  },
  {
   "cell_type": "code",
   "execution_count": null,
   "metadata": {},
   "outputs": [],
   "source": []
  }
 ],
 "metadata": {
  "kernelspec": {
   "display_name": "Python 3",
   "language": "python",
   "name": "python3"
  },
  "language_info": {
   "codemirror_mode": {
    "name": "ipython",
    "version": 3
   },
   "file_extension": ".py",
   "mimetype": "text/x-python",
   "name": "python",
   "nbconvert_exporter": "python",
   "pygments_lexer": "ipython3",
   "version": "3.6.9"
  }
 },
 "nbformat": 4,
 "nbformat_minor": 2
}
